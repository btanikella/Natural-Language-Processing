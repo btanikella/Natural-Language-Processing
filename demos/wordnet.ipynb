{
 "metadata": {
  "name": "",
  "signature": "sha256:7d11b99dc2937b8b22f3673ea94b087879a81e181d797b07bc23ede29ca4f1f0"
 },
 "nbformat": 3,
 "nbformat_minor": 0,
 "worksheets": [
  {
   "cells": [
    {
     "cell_type": "code",
     "collapsed": false,
     "input": [
      "from nltk.corpus import wordnet as wn"
     ],
     "language": "python",
     "metadata": {},
     "outputs": [],
     "prompt_number": 1
    },
    {
     "cell_type": "code",
     "collapsed": false,
     "input": [
      "wn.synsets('stain')"
     ],
     "language": "python",
     "metadata": {},
     "outputs": [
      {
       "metadata": {},
       "output_type": "pyout",
       "prompt_number": 4,
       "text": [
        "[Synset('stain.n.01'),\n",
        " Synset('stain.n.02'),\n",
        " Synset('dirt.n.02'),\n",
        " Synset('mark.n.06'),\n",
        " Synset('blot.n.02'),\n",
        " Synset('stain.v.01'),\n",
        " Synset('stain.v.02'),\n",
        " Synset('tarnish.v.01'),\n",
        " Synset('stain.v.04')]"
       ]
      }
     ],
     "prompt_number": 4
    },
    {
     "cell_type": "code",
     "collapsed": false,
     "input": [
      "ss2 = wn.synsets('stain')[1]"
     ],
     "language": "python",
     "metadata": {},
     "outputs": [],
     "prompt_number": 5
    },
    {
     "cell_type": "code",
     "collapsed": false,
     "input": [
      "ss2.definition"
     ],
     "language": "python",
     "metadata": {},
     "outputs": [
      {
       "metadata": {},
       "output_type": "pyout",
       "prompt_number": 6,
       "text": [
        "'(microscopy) a dye or other coloring material that is used in microscopy to make structures visible'"
       ]
      }
     ],
     "prompt_number": 6
    },
    {
     "cell_type": "code",
     "collapsed": false,
     "input": [
      "ss2.topic_domains()"
     ],
     "language": "python",
     "metadata": {},
     "outputs": [
      {
       "metadata": {},
       "output_type": "pyout",
       "prompt_number": 70,
       "text": [
        "[Synset('microscopy.n.01')]"
       ]
      }
     ],
     "prompt_number": 70
    },
    {
     "cell_type": "code",
     "collapsed": false,
     "input": [
      "ss2.lemmas"
     ],
     "language": "python",
     "metadata": {},
     "outputs": [
      {
       "metadata": {},
       "output_type": "pyout",
       "prompt_number": 11,
       "text": [
        "[Lemma('stain.n.02.stain')]"
       ]
      }
     ],
     "prompt_number": 11
    },
    {
     "cell_type": "code",
     "collapsed": false,
     "input": [
      "ss2.lemmas[0].key"
     ],
     "language": "python",
     "metadata": {},
     "outputs": [
      {
       "metadata": {},
       "output_type": "pyout",
       "prompt_number": 27,
       "text": [
        "'stain%1:27:00::'"
       ]
      }
     ],
     "prompt_number": 27
    },
    {
     "cell_type": "code",
     "collapsed": false,
     "input": [
      "lemma_stain = wn.lemma_from_key('stain%1:27:00::')\n",
      "print lemma_stain"
     ],
     "language": "python",
     "metadata": {},
     "outputs": [
      {
       "output_type": "stream",
       "stream": "stdout",
       "text": [
        "Lemma('stain.n.02.stain')\n"
       ]
      }
     ],
     "prompt_number": 33
    },
    {
     "cell_type": "code",
     "collapsed": false,
     "input": [
      "lemma_stain.derivationally_related_forms()"
     ],
     "language": "python",
     "metadata": {},
     "outputs": [
      {
       "metadata": {},
       "output_type": "pyout",
       "prompt_number": 53,
       "text": [
        "[Lemma('stain.v.04.stain')]"
       ]
      }
     ],
     "prompt_number": 53
    },
    {
     "cell_type": "code",
     "collapsed": false,
     "input": [
      "lemma_cell = wn.lemma_from_key('cell%1:03:00::')\n",
      "print lemma_cell"
     ],
     "language": "python",
     "metadata": {},
     "outputs": [
      {
       "output_type": "stream",
       "stream": "stdout",
       "text": [
        "Lemma('cell.n.02.cell')\n"
       ]
      }
     ],
     "prompt_number": 40
    },
    {
     "cell_type": "code",
     "collapsed": false,
     "input": [
      "lemma_cell.entailments()"
     ],
     "language": "python",
     "metadata": {},
     "outputs": [
      {
       "metadata": {},
       "output_type": "pyout",
       "prompt_number": 56,
       "text": [
        "[]"
       ]
      }
     ],
     "prompt_number": 56
    },
    {
     "cell_type": "code",
     "collapsed": false,
     "input": [
      "wn.synsets('stain')[0].lemmas"
     ],
     "language": "python",
     "metadata": {},
     "outputs": [
      {
       "metadata": {},
       "output_type": "pyout",
       "prompt_number": 12,
       "text": [
        "[Lemma('stain.n.01.stain'),\n",
        " Lemma('stain.n.01.discoloration'),\n",
        " Lemma('stain.n.01.discolouration')]"
       ]
      }
     ],
     "prompt_number": 12
    },
    {
     "cell_type": "code",
     "collapsed": false,
     "input": [
      "wn.synsets('cell')"
     ],
     "language": "python",
     "metadata": {},
     "outputs": [
      {
       "metadata": {},
       "output_type": "pyout",
       "prompt_number": 13,
       "text": [
        "[Synset('cell.n.01'),\n",
        " Synset('cell.n.02'),\n",
        " Synset('cell.n.03'),\n",
        " Synset('cell.n.04'),\n",
        " Synset('cellular_telephone.n.01'),\n",
        " Synset('cell.n.06'),\n",
        " Synset('cell.n.07')]"
       ]
      }
     ],
     "prompt_number": 13
    },
    {
     "cell_type": "code",
     "collapsed": false,
     "input": [
      "wn.synsets('cell')[1].definition"
     ],
     "language": "python",
     "metadata": {},
     "outputs": [
      {
       "metadata": {},
       "output_type": "pyout",
       "prompt_number": 15,
       "text": [
        "'(biology) the basic structural and functional unit of all organisms; they may exist as independent units of life (as in monads) or may form colonies or tissues as in higher plants and animals'"
       ]
      }
     ],
     "prompt_number": 15
    },
    {
     "cell_type": "code",
     "collapsed": false,
     "input": [
      "wn.synsets('cell')[4].lemmas"
     ],
     "language": "python",
     "metadata": {},
     "outputs": [
      {
       "metadata": {},
       "output_type": "pyout",
       "prompt_number": 20,
       "text": [
        "[Lemma('cellular_telephone.n.01.cellular_telephone'),\n",
        " Lemma('cellular_telephone.n.01.cellular_phone'),\n",
        " Lemma('cellular_telephone.n.01.cellphone'),\n",
        " Lemma('cellular_telephone.n.01.cell'),\n",
        " Lemma('cellular_telephone.n.01.mobile_phone')]"
       ]
      }
     ],
     "prompt_number": 20
    },
    {
     "cell_type": "code",
     "collapsed": false,
     "input": [
      "wn.synsets('cell')[1].hypernyms()"
     ],
     "language": "python",
     "metadata": {},
     "outputs": [
      {
       "metadata": {},
       "output_type": "pyout",
       "prompt_number": 22,
       "text": [
        "[Synset('living_thing.n.01')]"
       ]
      }
     ],
     "prompt_number": 22
    },
    {
     "cell_type": "code",
     "collapsed": false,
     "input": [
      "wn.synsets('cell')[1].hypernyms()[0].hypernyms()"
     ],
     "language": "python",
     "metadata": {},
     "outputs": [
      {
       "metadata": {},
       "output_type": "pyout",
       "prompt_number": 57,
       "text": [
        "[Synset('whole.n.02')]"
       ]
      }
     ],
     "prompt_number": 57
    },
    {
     "cell_type": "code",
     "collapsed": false,
     "input": [
      "wn.synsets('cell')[1].hypernyms()[0].hypernyms()[0].hypernyms()"
     ],
     "language": "python",
     "metadata": {},
     "outputs": [
      {
       "metadata": {},
       "output_type": "pyout",
       "prompt_number": 58,
       "text": [
        "[Synset('object.n.01')]"
       ]
      }
     ],
     "prompt_number": 58
    },
    {
     "cell_type": "code",
     "collapsed": false,
     "input": [
      "wn.synsets('cell')[1].hypernyms()[0].hypernyms()[0].hypernyms()[0].hypernyms()"
     ],
     "language": "python",
     "metadata": {},
     "outputs": [
      {
       "metadata": {},
       "output_type": "pyout",
       "prompt_number": 59,
       "text": [
        "[Synset('physical_entity.n.01')]"
       ]
      }
     ],
     "prompt_number": 59
    },
    {
     "cell_type": "code",
     "collapsed": false,
     "input": [
      "wn.synsets('cell')[1].hypernyms()[0].hypernyms()[0].hypernyms()[0].hypernyms()[0].hypernyms()"
     ],
     "language": "python",
     "metadata": {},
     "outputs": [
      {
       "metadata": {},
       "output_type": "pyout",
       "prompt_number": 60,
       "text": [
        "[Synset('entity.n.01')]"
       ]
      }
     ],
     "prompt_number": 60
    },
    {
     "cell_type": "code",
     "collapsed": false,
     "input": [
      "wn.synsets('cell')[1].hypernyms()[0].hypernyms()[0].hypernyms()[0].hypernyms()[0].hypernyms()[0].hypernyms()"
     ],
     "language": "python",
     "metadata": {},
     "outputs": [
      {
       "metadata": {},
       "output_type": "pyout",
       "prompt_number": 61,
       "text": [
        "[]"
       ]
      }
     ],
     "prompt_number": 61
    },
    {
     "cell_type": "code",
     "collapsed": false,
     "input": [
      "wn.synsets('cell')[1].hyponyms()"
     ],
     "language": "python",
     "metadata": {},
     "outputs": [
      {
       "metadata": {},
       "output_type": "pyout",
       "prompt_number": 23,
       "text": [
        "[Synset('zygote.n.01'),\n",
        " Synset('akaryocyte.n.01'),\n",
        " Synset(\"kupffer's_cell.n.01\"),\n",
        " Synset('blastema.n.01'),\n",
        " Synset('arthrospore.n.02'),\n",
        " Synset('reproductive_cell.n.01'),\n",
        " Synset('plant_cell.n.01'),\n",
        " Synset('blastomere.n.01'),\n",
        " Synset('polar_body.n.01'),\n",
        " Synset('archespore.n.01'),\n",
        " Synset('flagellated_cell.n.01'),\n",
        " Synset('parthenote.n.01'),\n",
        " Synset('fiber.n.03'),\n",
        " Synset('sertoli_cell.n.01'),\n",
        " Synset('embryonic_cell.n.01'),\n",
        " Synset('daughter_cell.n.01'),\n",
        " Synset('arthrospore.n.01'),\n",
        " Synset('mother_cell.n.01'),\n",
        " Synset('gametocyte.n.01'),\n",
        " Synset('recombinant.n.01'),\n",
        " Synset('beta_cell.n.01'),\n",
        " Synset('leydig_cell.n.01'),\n",
        " Synset('somatic_cell.n.01')]"
       ]
      }
     ],
     "prompt_number": 23
    },
    {
     "cell_type": "code",
     "collapsed": false,
     "input": [
      "sent = 'Americans foresee unending economic doom'"
     ],
     "language": "python",
     "metadata": {},
     "outputs": [],
     "prompt_number": 63
    },
    {
     "cell_type": "code",
     "collapsed": true,
     "input": [
      "for word in sent.split(' '):\n",
      "    print wn.synsets(word)\n",
      "    for synset in wn.synsets(word):\n",
      "        print synset, synset.definition\n",
      "    print"
     ],
     "language": "python",
     "metadata": {},
     "outputs": [
      {
       "output_type": "stream",
       "stream": "stdout",
       "text": [
        "[Synset('american.n.01'), Synset('american_english.n.01'), Synset('american.n.03')]\n",
        "Synset('american.n.01') a native or inhabitant of the United States\n",
        "Synset('american_english.n.01') the English language as used in the United States\n",
        "Synset('american.n.03') a native or inhabitant of a North American or Central American or South American country\n",
        "\n",
        "[Synset('anticipate.v.03'), Synset('envision.v.02'), Synset('anticipate.v.02')]\n",
        "Synset('anticipate.v.03') realize beforehand\n",
        "Synset('envision.v.02') picture to oneself; imagine possible\n",
        "Synset('anticipate.v.02') act in advance of; deal with ahead of time\n",
        "\n",
        "[Synset('ageless.s.01')]\n",
        "Synset('ageless.s.01') continuing forever or indefinitely\n",
        "\n",
        "[Synset('economic.a.01'), Synset('economic.a.02'), Synset('economic.s.03'), Synset('economic.s.04'), Synset('economic.s.05')]\n",
        "Synset('economic.a.01') of or relating to an economy, the system of production and management of material wealth\n",
        "Synset('economic.a.02') of or relating to the science of economics\n",
        "Synset('economic.s.03') using the minimum of time or resources necessary for effectiveness\n",
        "Synset('economic.s.04') concerned with worldly necessities of life (especially money)\n",
        "Synset('economic.s.05') financially rewarding\n",
        "\n",
        "[Synset('doom.n.01'), Synset('destine.v.01'), Synset('sentence.v.01'), Synset('doom.v.03')]\n",
        "Synset('doom.n.01') an unpleasant or disastrous destiny\n",
        "Synset('destine.v.01') decree or designate beforehand\n",
        "Synset('sentence.v.01') pronounce a sentence on (somebody) in a court of law\n",
        "Synset('doom.v.03') make certain of the failure or destruction of\n",
        "\n"
       ]
      }
     ],
     "prompt_number": 68
    }
   ],
   "metadata": {}
  }
 ]
}