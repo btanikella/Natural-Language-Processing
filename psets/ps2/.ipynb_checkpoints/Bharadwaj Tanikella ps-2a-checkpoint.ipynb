{
 "metadata": {
  "name": "",
  "signature": "sha256:9f9270dbdfd83efd00f60261e389a54570fc208e982d6653c99b4a6ba94a3895"
 },
 "nbformat": 3,
 "nbformat_minor": 0,
 "worksheets": [
  {
   "cells": [
    {
     "cell_type": "markdown",
     "metadata": {},
     "source": [
      "Problem Set 2: Sequence labeling\n",
      "=====================\n",
      "\n",
      "This project focuses on sequence labeling. \n",
      "Part (a) focuses on *generative* approaches, including Naive Bayes and the Hidden Markov Model (HMM).\n",
      "The target domain is Twitter part-of-speech tagging."
     ]
    },
    {
     "cell_type": "code",
     "collapsed": false,
     "input": [
      "import scorer, operator\n",
      "from collections import defaultdict, Counter\n",
      "import matplotlib.pyplot as plt\n",
      "%pylab --no-import-all inline"
     ],
     "language": "python",
     "metadata": {},
     "outputs": [
      {
       "output_type": "stream",
       "stream": "stdout",
       "text": [
        "Populating the interactive namespace from numpy and matplotlib\n"
       ]
      }
     ],
     "prompt_number": 433
    },
    {
     "cell_type": "markdown",
     "metadata": {},
     "source": [
      "# 1. Data Processing #\n",
      "\n",
      "Download the train data and dev data from [Github](https://github.com/jacobeisenstein/gt-nlp-class/tree/master/projects/proj-2). \n",
      "The test data will be released around 48 hours before the deadline for Pset 2b.\n",
      "The part-of-speech tags are defined in the [ACL2011 paper](http://www.ark.cs.cmu.edu/TweetNLP/gimpel+etal.acl11.pdf) \n",
      "and the [NAACL 2013 paper](http://www.ark.cs.cmu.edu/TweetNLP/owoputi+etal.naacl13.pdf), \n",
      "which also describe the data and gives some state-of-art results."
     ]
    },
    {
     "cell_type": "code",
     "collapsed": false,
     "input": [
      "\"\"\"\n",
      "Data processing code\n",
      "\"\"\"\n",
      "def conllSeqGenerator(input_file,max_insts=1000000):\n",
      "    \"\"\" return an instance generator for a filename\n",
      "    \n",
      "    The generator yields lists of words and tags.  \n",
      "    \"\"\"\n",
      "    cur_words = []\n",
      "    cur_tags = []\n",
      "    num_insts = 0\n",
      "    with open(input_file) as instances:\n",
      "        for line in instances:\n",
      "            if len(line.rstrip()) == 0:\n",
      "                if len(cur_words) > 0:\n",
      "                    num_insts += 1\n",
      "                    yield cur_words,cur_tags\n",
      "                    cur_words = []\n",
      "                    cur_tags = []\n",
      "            else:\n",
      "                parts = line.rstrip().split()\n",
      "                cur_words.append(parts[0])\n",
      "                if len(parts)>1:\n",
      "                    cur_tags.append(parts[1])\n",
      "                else: cur_tags.append(unk)\n",
      "        if len(cur_words)>0: \n",
      "            num_insts += 1\n",
      "            yield cur_words,cur_tags"
     ],
     "language": "python",
     "metadata": {},
     "outputs": [],
     "prompt_number": 434
    },
    {
     "cell_type": "code",
     "collapsed": false,
     "input": [
      "## Define the file names\n",
      "trainfile = 'oct27.train'\n",
      "devfile = 'oct27.dev'\n",
      "testfile = 'oct27.test' # You do not have this for now\n",
      "offset = \"**OFFSET**\"\n",
      "unknown = \"**UNKNOWN**\""
     ],
     "language": "python",
     "metadata": {},
     "outputs": [],
     "prompt_number": 435
    },
    {
     "cell_type": "markdown",
     "metadata": {},
     "source": [
      "Here is a demo code for using function \"conllSeqGenerator()\""
     ]
    },
    {
     "cell_type": "code",
     "collapsed": false,
     "input": [
      "## Demo\n",
      "alltags = set()\n",
      "for i,(words, tags) in enumerate(conllSeqGenerator(trainfile)):    \n",
      "    for tag in tags:\n",
      "        alltags.add(tag)\n",
      "print alltags"
     ],
     "language": "python",
     "metadata": {},
     "outputs": [
      {
       "output_type": "stream",
       "stream": "stdout",
       "text": [
        "set(['!', '#', '$', '&', ',', 'A', '@', 'E', 'D', 'G', 'M', 'L', 'O', 'N', 'P', 'S', 'R', 'U', 'T', 'V', 'Y', 'X', 'Z', '^', '~'])\n"
       ]
      }
     ],
     "prompt_number": 436
    },
    {
     "cell_type": "markdown",
     "metadata": {},
     "source": [
      "**Deliverable 1a** (1 point): Use the Counter class to identify the most common three words for each tag, in the training set. \n",
      "The most_common() function of the Counter class will help you here. "
     ]
    },
    {
     "cell_type": "code",
     "collapsed": false,
     "input": [
      "# your code here\n",
      "tempCount = Counter()\n",
      "tagDict = defaultdict(list)\n",
      "returDict = defaultdict(list)\n",
      "for i,(words,tags) in enumerate(conllSeqGenerator(trainfile)):\n",
      "    for tag in tags:\n",
      "        tagDict[tag].append(words[tags.index(tag)])\n",
      "for tag in tagDict.keys():\n",
      "    returDict[tag]=Counter(tagDict[tag]).most_common(3)\n",
      "print returDict\n",
      "\n",
      "        "
     ],
     "language": "python",
     "metadata": {},
     "outputs": [
      {
       "output_type": "stream",
       "stream": "stdout",
       "text": [
        "defaultdict(<type 'list'>, {'!': [('lol', 44), ('Lol', 23), ('oh', 14)], '#': [('#fl', 9), ('#TeamGemini', 8), ('#p2', 7)], '$': [('one', 32), ('10', 9), ('4', 8)], '&': [('and', 118), ('&', 40), ('but', 30)], ',': [('.', 350), (',', 291), ('!', 207)], 'A': [('good', 26), ('new', 24), ('more', 19)], '@': [('@itsLEWISprice', 7), ('@ratihreno', 6), ('@AgentJTBaron', 6)], 'E': [(':)', 25), ('(', 9), (':(', 8)], 'D': [('the', 264), ('a', 150), ('my', 90)], 'G': [('|', 9), ('#uWasCoolUntil', 8), ('smh', 8)], 'M': [(\"momma's\", 1), ('#LebronShould', 1), (\"Ricochet's\", 1)], 'L': [(\"I'm\", 43), ('its', 22), (\"It's\", 14)], 'O': [('I', 348), ('you', 110), ('i', 76)], 'N': [('people', 22), ('time', 21), ('day', 19)], 'P': [('to', 239), ('for', 93), ('in', 90)], 'S': [('mans', 1), (\"judge's\", 1), ('year\\xe2\\x80\\x99s', 1)], 'R': [('just', 66), ('how', 32), ('not', 31)], 'U': [('http', 5), ('meat.org', 2), ('://', 2)], 'T': [('out', 29), ('up', 26), ('on', 8)], 'V': [('is', 143), ('are', 96), ('was', 50)], 'Y': [(\"there's\", 2)], 'X': [('all', 6), ('There', 4), ('there', 2)], 'Z': [(\"Obamacare's\", 1), ('\\xe2\\x80\\x9cLasers\\xe2\\x80\\x99s\\xe2\\x80\\x9d', 1), (\"Murkowski's\", 1)], '^': [('James', 12), ('twitter', 11), ('Five', 11)], '~': [('RT', 483), ('...', 29), (':', 7)]})\n"
       ]
      }
     ],
     "prompt_number": 437
    },
    {
     "cell_type": "markdown",
     "metadata": {},
     "source": [
      "## Most-common-tag baseline ##\n",
      "\n",
      "Build a classifier that chooses the most common tag for each word.\n",
      "\n",
      "- You should implement your classifier in terms of a set of weights, as in pset 1\n",
      "- Prediction should use your predict() function from pset 1\n",
      "- For unseen words, the classifier should choose the tag with the most **unique** word types"
     ]
    },
    {
     "cell_type": "code",
     "collapsed": false,
     "input": [
      "argmax = lambda x : max(x.iteritems(),key=operator.itemgetter(1))[0]"
     ],
     "language": "python",
     "metadata": {},
     "outputs": [],
     "prompt_number": 438
    },
    {
     "cell_type": "code",
     "collapsed": false,
     "input": [
      "# paste your predict function here\n",
      "# should return two outputs: the highest-scoring label, and the scores for all labels\n",
      "def predict(instance,weights,labels):\n",
      "    scores = defaultdict(float)\n",
      "    for l in labels:\n",
      "            scores[l] += weights[l,instance]\n",
      "            scores[l] += weights[l,offset]\n",
      "    return argmax(scores),scores"
     ],
     "language": "python",
     "metadata": {},
     "outputs": [],
     "prompt_number": 439
    },
    {
     "cell_type": "markdown",
     "metadata": {},
     "source": [
      "evalTagger evaluates a tagger. It takes three arguments:\n",
      "\n",
      "- a tagger, which is a **function** taking a list of words and a tagset as arguments\n",
      "- an output filename\n",
      "- a test file\n",
      "\n",
      "You will want to use lambda expressions to create the first argument for this function, as shown below."
     ]
    },
    {
     "cell_type": "code",
     "collapsed": false,
     "input": [
      "def evalTagger(tagger,outfilename,testfile=devfile):    \n",
      "    with open(outfilename,'w') as outfile:\n",
      "        for words,_ in conllSeqGenerator(testfile):\n",
      "            pred_tags = tagger(words,alltags)\n",
      "            for tag in pred_tags:\n",
      "                print >>outfile, tag\n",
      "            print >>outfile, \"\"\n",
      "    return scorer.getConfusion(testfile,outfilename) #run the scorer on the prediction file"
     ],
     "language": "python",
     "metadata": {},
     "outputs": [],
     "prompt_number": 440
    },
    {
     "cell_type": "markdown",
     "metadata": {},
     "source": [
      "Here's how it works. I provide a tagger that labels everything as a noun."
     ]
    },
    {
     "cell_type": "code",
     "collapsed": false,
     "input": [
      "# the list comprehension creates a list of 'N' equal to the length of the list of words\n",
      "noun_tagger = lambda words, alltags : ['N' for word in words]\n",
      "confusion = evalTagger(noun_tagger,'nouns')\n",
      "print scorer.accuracy(confusion)"
     ],
     "language": "python",
     "metadata": {},
     "outputs": [
      {
       "output_type": "stream",
       "stream": "stdout",
       "text": [
        "0.136844287788\n"
       ]
      }
     ],
     "prompt_number": 441
    },
    {
     "cell_type": "markdown",
     "metadata": {},
     "source": [
      "Define a function called classifier tagger, with the following signature:\n",
      "- **input 1** a list of words\n",
      "- **input 2** a dict of weights\n",
      "- **input 3** a list of all possible tags\n",
      "- **output 1** a list of predicted tags\n",
      "\n",
      "Your function should call predict, using the weights."
     ]
    },
    {
     "cell_type": "code",
     "collapsed": false,
     "input": [
      "# define a function called classifierTagger\n",
      "def classifierTagger(words,weights,all_tags):\n",
      "    tags = []\n",
      "    \n",
      "    # your code here\n",
      "    for word in words:\n",
      "        tag, score=predict(word,weights,all_tags)\n",
      "        tags.append(tag)\n",
      "    return tags"
     ],
     "language": "python",
     "metadata": {},
     "outputs": [],
     "prompt_number": 442
    },
    {
     "cell_type": "markdown",
     "metadata": {},
     "source": [
      "**Deliverable 1b** (1 point) Use your classifierTagger to reproduce the \"always noun\" tagger above, this time by using the offset weight. \n",
      "\n",
      "**Sanity check** the accuracy should be the same as above"
     ]
    },
    {
     "cell_type": "code",
     "collapsed": false,
     "input": [
      "your_weights = defaultdict(float)\n",
      "# your code: set the weights\n",
      "for tags in alltags:\n",
      "    your_weights.update({(tags,offset):0})\n",
      "your_weights.update({('N',offset):10})\n",
      "noun_tagger_2 = lambda words, alltags: classifierTagger(words, your_weights, alltags)\n",
      "print scorer.accuracy(evalTagger(noun_tagger_2,'nouns'))\n"
     ],
     "language": "python",
     "metadata": {},
     "outputs": [
      {
       "output_type": "stream",
       "stream": "stdout",
       "text": [
        "0.136844287788\n"
       ]
      }
     ],
     "prompt_number": 448
    },
    {
     "cell_type": "markdown",
     "metadata": {},
     "source": [
      "**Deliverable 1c** (2 points) Implement a tagger that selects the most common tag for each word. \n",
      "- You should use classifierTagger for this, so select the weights appropriately\n",
      "- To do this, you'll want to construct a bunch of counters, similar to what you did above.\n",
      "- For words that do not appear in the training data, select the tag which applies to the most word *types* in the training data."
     ]
    },
    {
     "cell_type": "code",
     "collapsed": false,
     "input": [
      "# your code here\n",
      "# weights \n",
      "weightCount = Counter()\n",
      "wordsDict = defaultdict(list)\n",
      "mostCommon = defaultdict(list)\n",
      "weights =defaultdict(int)\n",
      "for i,(words,tags) in enumerate(conllSeqGenerator(trainfile)):\n",
      "    for word in words:\n",
      "        wordsDict[word].append(tags[words.index(word)])\n",
      "for word in wordsDict.keys():\n",
      "    mostCommon[word]=Counter(wordsDict[word]).most_common(1)\n",
      "for wordKeys in mostCommon.keys():\n",
      "    #print mostCommon[wordKeys][0][0]\n",
      "    weights[mostCommon[wordKeys][0][0],wordKeys]=1\n",
      "\n",
      "#Mostwordtypes in a TAG.\n",
      "tempCount = Counter()\n",
      "tagsDict = defaultdict(list)\n",
      "retursDict = defaultdict(list)\n",
      "returnDict= defaultdict(int)\n",
      "for i,(words,tags) in enumerate(conllSeqGenerator(trainfile)):\n",
      "    for tag in tags:\n",
      "        tagsDict[tag].append(words[tags.index(tag)])\n",
      "for tag in tagsDict.keys():\n",
      "    retursDict[tag] = Counter(tagDict[tag]).most_common()\n",
      "    returnDict[tag]=len(retursDict[tag])\n",
      "weights[argmax(returnDict),offset]=0.5\n",
      "#print returDict"
     ],
     "language": "python",
     "metadata": {},
     "outputs": [],
     "prompt_number": 451
    },
    {
     "cell_type": "markdown",
     "metadata": {},
     "source": [
      "**Sanity check** my accuracy is approximately 70%"
     ]
    },
    {
     "cell_type": "code",
     "collapsed": false,
     "input": [
      "confusion = evalTagger(lambda words,alltags : classifierTagger(words,weights,alltags),'mcc')\n",
      "print scorer.accuracy(confusion)"
     ],
     "language": "python",
     "metadata": {},
     "outputs": [
      {
       "output_type": "stream",
       "stream": "stdout",
       "text": [
        "0.702052664317\n"
       ]
      }
     ],
     "prompt_number": 452
    },
    {
     "cell_type": "markdown",
     "metadata": {},
     "source": [
      "# 2 Naive Bayes Classification #\n",
      "\n",
      "\n",
      "Write a function that builds a Naive Bayes classifier to perform supervised classification.\n",
      "\n",
      "- The base features should just be the word itself, plus an offset feature. \n",
      "- The output of this function should be weights that you can plug into the predict function that you wrote last time\n",
      "- An input should be a smoothing value $\\alpha$\n",
      "- **Hint**: You may want to use the counters that you built in problem 1a."
     ]
    },
    {
     "cell_type": "code",
     "collapsed": false,
     "input": [
      "import numpy\n",
      "v = 0.0\n",
      "tagDictionary = defaultdict(list)\n",
      "tagCount = defaultdict(float)\n",
      "vocabulary = set()\n",
      "n_k = defaultdict(int)\n",
      "priorProbability=defaultdict(float)\n",
      "\n",
      "for i,(words, tags) in enumerate(conllSeqGenerator(trainfile)):    \n",
      "    for x in range(0,len(words)):\n",
      "        n_k[tags[x],words[x]] += 1\n",
      "        tagDictionary[tags[x]].append(words[x])\n",
      "        vocabulary.add(words[x])\n",
      "       \n",
      "        \n",
      "for tag in tagDictionary:\n",
      "    tagCount[tag] = len(tagDictionary[tag])\n",
      "    v += len(tagDictionary[tag])*1.0\n",
      "\n",
      "for tag in tagCount.keys():\n",
      "    priorProbability[tag]=np.log(tagCount[tag]/v)\n",
      "\n",
      "def getNBWeights(alpha):\n",
      "    weights = defaultdict(float)\n",
      "    for word in vocabulary:\n",
      "        for tag in tagCount.keys():\n",
      "            weights[tag,word] = np.log(float(n_k[(tag, word)] + alpha)/(tagCount[tag] + len(vocabulary)*alpha))\n",
      "        for tag in tagCount.keys():\n",
      "            weights[(tag, offset)] = priorProbability[tag]\n",
      "    return weights"
     ],
     "language": "python",
     "metadata": {},
     "outputs": [],
     "prompt_number": 453
    },
    {
     "cell_type": "markdown",
     "metadata": {},
     "source": [
      "**Sanity check**: your code should give the same results I get below"
     ]
    },
    {
     "cell_type": "code",
     "collapsed": false,
     "input": [
      "w1 = getNBWeights(0.1)\n",
      "# print total probability mass for a tag\n",
      "print sum([np.exp(w1[('N',word)]) for word in word_counters.keys()])\n",
      "# print some common values\n",
      "\n",
      "\n",
      "# 1.0\n",
      "# -7.74708642426 -10.226404038 -6.42687365064 -1.78871941598 -3.58372417191\n",
      "\n",
      "print w1[('N','breakfast')], w1[('V','breakfast')], w1[('A','smart')], w1[('D','the')], w1[('!',offset)]\n"
     ],
     "language": "python",
     "metadata": {},
     "outputs": [
      {
       "output_type": "stream",
       "stream": "stdout",
       "text": [
        "1.0\n",
        "-7.74708642426 -10.226404038 -6.42687365064 -1.78871941598 -3.58372417191\n"
       ]
      }
     ],
     "prompt_number": 417
    },
    {
     "cell_type": "markdown",
     "metadata": {},
     "source": [
      "**Deliverable 2** (3 points): run the code below to evaluate your naive bayes tagger on the development set.\n",
      "\n",
      "**Sanity check**: you may do a little worse than the most-common tag classifier"
     ]
    },
    {
     "cell_type": "code",
     "collapsed": false,
     "input": [
      "dev_acc = dict()\n",
      "for alpha in [1e-4,1e-3,1e-2,1e-1,1e0,1e1]:\n",
      "    nb_weights = getNBWeights(alpha)\n",
      "    confusion = evalTagger(lambda words, alltags : classifierTagger(words,nb_weights,alltags),'nb')\n",
      "    dev_acc[alpha] = scorer.accuracy(confusion)\n",
      "    print alpha,dev_acc[alpha]"
     ],
     "language": "python",
     "metadata": {},
     "outputs": [
      {
       "output_type": "stream",
       "stream": "stdout",
       "text": [
        "0.0001 0.67095168982\n",
        "0.001"
       ]
      },
      {
       "output_type": "stream",
       "stream": "stdout",
       "text": [
        " 0.67095168982\n",
        "0.01"
       ]
      },
      {
       "output_type": "stream",
       "stream": "stdout",
       "text": [
        " 0.67095168982\n",
        "0.1"
       ]
      },
      {
       "output_type": "stream",
       "stream": "stdout",
       "text": [
        " 0.66846361186\n",
        "1.0"
       ]
      },
      {
       "output_type": "stream",
       "stream": "stdout",
       "text": [
        " 0.625544267054\n",
        "10.0"
       ]
      },
      {
       "output_type": "stream",
       "stream": "stdout",
       "text": [
        " 0.510470661414\n"
       ]
      }
     ],
     "prompt_number": 418
    },
    {
     "cell_type": "markdown",
     "metadata": {},
     "source": [
      "# 3 Viterbi Algorithm #\n",
      "\n",
      "In this section you will implement the Viterbi algorithm. As a reminder, here's the math:\n",
      "\n",
      "$\\renewcommand{\\vec}[1]{\\mathbf{#1}}$\n",
      "\\begin{align*}\n",
      "\\vec{w}^{\\top}\\vec{f}(\\vec{x},\\vec{y}) = & \\sum_i \\vec{w}^{\\top} \\vec{f}(\\vec{x},y_i,y_{i-1},i) \\\\\n",
      "v(y,0) = & \\vec{w}^{\\top}\\vec{f}(\\vec{x},y,\\diamond,0)\\\\\n",
      "b(y,0) = & \\diamond \\\\\n",
      "v(y,i) = & \\max_{y'} \\vec{w}^{\\top}\\vec{f}(\\vec{x},y,y',i) + v(y',i-1)\\\\\n",
      "b(y,i-1) = & \\text{arg}\\max_{y'} \\vec{w}^{\\top}\\vec{f}(\\vec{x},y,y',i) + v(y',i-1)\\\\\n",
      "\\end{align*}"
     ]
    },
    {
     "cell_type": "markdown",
     "metadata": {},
     "source": [
      "To get warmed up, let's work out an example by hand. There are only two tags, \n",
      "N and V. Here are the parameters:\n",
      "\n",
      "| | Value |\n",
      "| ------------- |:-------------:|\n",
      "| $\\log P_E(\\cdot|N)$ | they: -1, can: -3, fish: -3 |\n",
      "| $\\log P_E(\\cdot|V)$ | they: -10, can: -2, fish: -3 |\n",
      "| $\\log P_T(\\cdot|N)$ | N: -5, V: -2, END: -2 |\n",
      "| $\\log P_T(\\cdot|V)$ | N: -1, V: -4, END: -3 |\n",
      "| $\\log P_T(\\cdot|\\text{START})$ | N :-1, V :-1 |\n",
      "\n",
      "where $P_E(\\cdot|\\cdot)$ is the emission probability and $P_T(\\cdot|\\cdot)$ is the translation probability.\n",
      " \n",
      "In class we discuss the sentence *They can fish*. Now work out a more complicated example: \"*They can can fish*\".\n",
      " \n",
      "** Deliverable 3a ** (1 point) Show the trellis-like table, and give the score for the best best scoring path(s). After you work out the trellis by hand, you should be able to fill the following table.\n",
      "\n",
      "\n",
      "** Sanity check ** There are two paths that each score -18."
     ]
    },
    {
     "cell_type": "markdown",
     "metadata": {},
     "source": [
      "*(Fill your answer in the following table)*\n",
      "\n",
      "|POS tag| START  | they | can | can | fish | END |\n",
      "|-------|:-------|:-----|:----|:----|:-----|:---:|\n",
      "| N     |    0   | -2   |-10  |-10  | -16  | -18 |\n",
      "| V     |    0   | -11  |-6   |-12  | -15  | -18 |"
     ]
    },
    {
     "cell_type": "markdown",
     "metadata": {},
     "source": [
      "## Implementing Viterbi ##"
     ]
    },
    {
     "cell_type": "code",
     "collapsed": false,
     "input": [
      "# you can see how these are used in the example weights below\n",
      "start_tag = '--START--'\n",
      "end_tag = '--END--'\n",
      "trans ='--TRANS--'\n",
      "emit = '--EMISSION--'"
     ],
     "language": "python",
     "metadata": {},
     "outputs": [],
     "prompt_number": 419
    },
    {
     "cell_type": "markdown",
     "metadata": {},
     "source": [
      "The following function computes the HMM features for the function $\\vec{f}(\\vec{x},y,y',i)$. \n",
      "- You will call it in your viterbi tagger. \n",
      "- Note that it returns both an emission and transition feature, except for the last word, where it returns only a transition feature. \n",
      "- Also note that transition and emission features are specially marked"
     ]
    },
    {
     "cell_type": "code",
     "collapsed": false,
     "input": [
      "def hmm_feats(words,curr_tag,prev_tag,i):\n",
      "    if i < len(words):\n",
      "        return [(curr_tag,words[i],emit),(curr_tag,prev_tag,trans)]\n",
      "    else: return [(curr_tag,prev_tag,trans)]"
     ],
     "language": "python",
     "metadata": {},
     "outputs": [],
     "prompt_number": 420
    },
    {
     "cell_type": "markdown",
     "metadata": {},
     "source": [
      "Here are some predefined weights, corresponding to problem 3a."
     ]
    },
    {
     "cell_type": "code",
     "collapsed": false,
     "input": [
      "defined_weights = {('N','they',emit):-1,('N','can',emit):-3,('N','fish',emit):-3,\\\n",
      "                        ('V','they',emit):-10,('V','can',emit):-2,('V','fish',emit):-3,\\\n",
      "                        ('N','N',trans):-5,('V','N',trans):-2,(end_tag,'N',trans):-3,\\\n",
      "                        ('N','V',trans):-1,('V','V',trans):-4,(end_tag,'V',trans):-3,\\\n",
      "                        ('N',start_tag,trans):-1,('V',start_tag,trans):-1}"
     ],
     "language": "python",
     "metadata": {},
     "outputs": [],
     "prompt_number": 421
    },
    {
     "cell_type": "markdown",
     "metadata": {},
     "source": [
      "Define viterbiTagger\n",
      "\n",
      "- **Input 1**: a list of words\n",
      "- **Input 2**: a feature function, like hmm_feats\n",
      "- **Input 3**: a dict of weights\n",
      "- **Input 4**: a list of all possible tags\n",
      "- **Output 1**: the best-scoring sequence\n",
      "- **Output 2**: the score of the best-scoring sequence\n",
      "\n",
      "Hint: you can represent the trellis and the back pointers as lists of dicts. You will want to do some special handling for the first and last words; otherwise, just iterate "
     ]
    },
    {
     "cell_type": "code",
     "collapsed": false,
     "input": [
      "# def viterbi(obs, states, start_p, trans_p, emit_p):\n",
      "#     V = [{}]\n",
      "#     path = {}\n",
      " \n",
      "#     # Initialize base cases (t == 0)\n",
      "#     for y in states:\n",
      "#         V[0][y] = start_p[y] * emit_p[y][obs[0]]\n",
      "#         path[y] = [y]\n",
      " \n",
      "#     # Run Viterbi for t > 0\n",
      "#     for t in range(1, len(obs)):\n",
      "#         V.append({})\n",
      "#         newpath = {}\n",
      " \n",
      "#         for y in states:\n",
      "#             (prob, state) = max((V[t-1][y0] * trans_p[y0][y] * emit_p[y][obs[t]], y0) for y0 in states)\n",
      "#             V[t][y] = prob\n",
      "#             newpath[y] = path[state] + [y]\n",
      " \n",
      "#         # Don't need to remember the old paths\n",
      "#         path = newpath\n",
      "#     n = 0           # if only one element is observed max is sought in the initialization values\n",
      "#     if len(obs)!=1:\n",
      "#         n = t\n",
      "#     print_dptable(V)\n",
      "#     (prob, state) = max((V[n][y], y) for y in states)\n",
      "#     return (prob, path[state])\n",
      " \n",
      "# # Don't study this, it just prints a table of the steps.\n",
      "# def print_dptable(V):\n",
      "#     s = \"    \" + \" \".join((\"%7d\" % i) for i in range(len(V))) + \"\\n\"\n",
      "#     for y in V[0]:\n",
      "#         s += \"%.5s: \" % y\n",
      "#         s += \" \".join(\"%.7s\" % (\"%f\" % v[y]) for v in V)\n",
      "#         s += \"\\n\"\n",
      "#     print(s)\n",
      "# This algorithm was borrowed from Wikipedia.org http://en.wikipedia.org/wiki/Viterbi_algorithm\n",
      "def viterbiTagger(words,feat_func,weights,all_tags,debug=False):\n",
      "    trellis = [None] * len(words) #hint: store the $v$ table here \n",
      "    pointers = [None] * len(words) #hint: store the $b$ table here\n",
      "    output = [None] * len(words) #hint: store the output here. build this last.\n",
      "    # your code here\n",
      "    \n",
      "    V=[{}]\n",
      "    pathTaken ={}\n",
      "    \n",
      "    for y in all_tags:\n",
      "        V[0][y] = weights[y,start_tag,trans] + weights[y,words[0],emit]\n",
      "        pathTaken[y] = [y]\n",
      " \n",
      "    for t in range(1, len(words)+1):\n",
      "        V.append({})\n",
      "        newpath = {}\n",
      "        \n",
      "        for y in all_tags:\n",
      "            if(t==len(words)):\n",
      "                (prob, state)= max((V[t-1][y0]+weights[end_tag,y0,trans],y0) for y0 in all_tags)\n",
      "                V[t][y]=prob\n",
      "                newpath[y]=pathTaken[state]\n",
      "            else:\n",
      "                (prob, state) = max((V[t-1][y0] + weights[y,y0,trans] + weights[y,words[t],emit], y0) for y0 in all_tags)\n",
      "                V[t][y] = prob\n",
      "                newpath[y] = pathTaken[state] + [y]\n",
      "         \n",
      "        \n",
      "        pathTaken = newpath\n",
      "    n = 0           \n",
      "    if len(words)!=1:\n",
      "        n = t\n",
      "    (prob, state) = max((V[n][y], y) for y in all_tags)\n",
      "    output=pathTaken[state]\n",
      "    best_score=prob\n",
      " \n",
      "    return output,best_score"
     ],
     "language": "python",
     "metadata": {},
     "outputs": [],
     "prompt_number": 422
    },
    {
     "cell_type": "markdown",
     "metadata": {},
     "source": [
      "**Deliverable 3b** (1 point) run you viterbi tagger on the example in 3a, using the code below."
     ]
    },
    {
     "cell_type": "code",
     "collapsed": false,
     "input": [
      "# keep this code\n",
      "viterbiTagger(['they','can','can','fish'],hmm_feats,defined_weights,['N','V'])"
     ],
     "language": "python",
     "metadata": {},
     "outputs": [
      {
       "metadata": {},
       "output_type": "pyout",
       "prompt_number": 423,
       "text": [
        "(['N', 'V', 'N', 'V'], -18)"
       ]
      }
     ],
     "prompt_number": 423
    },
    {
     "cell_type": "markdown",
     "metadata": {},
     "source": [
      "**Deliverable 3c** (1 point) run your Viterbi on the following example"
     ]
    },
    {
     "cell_type": "code",
     "collapsed": false,
     "input": [
      "sent = 'they can can can can can can can fish'.split()"
     ],
     "language": "python",
     "metadata": {},
     "outputs": [],
     "prompt_number": 424
    },
    {
     "cell_type": "code",
     "collapsed": false,
     "input": [
      "viterbiTagger(sent,hmm_feats,defined_weights,['N','V'])"
     ],
     "language": "python",
     "metadata": {},
     "outputs": [
      {
       "metadata": {},
       "output_type": "pyout",
       "prompt_number": 425,
       "text": [
        "(['N', 'V', 'N', 'V', 'N', 'V', 'N', 'V', 'N'], -37)"
       ]
      }
     ],
     "prompt_number": 425
    },
    {
     "cell_type": "markdown",
     "metadata": {},
     "source": [
      "Now estimate the weights of a hidden Markov model. \n",
      "- You have already estimated the emission weights $\\log P(w | y)$, in your solution to problem 2. Use your solution with $\\alpha=0.001$\n",
      "- Estimate the transition probabilities from the training data, using the maximum-likelihood estimates (no smoothing)\n",
      "- Don't forget transitions from the start state and to the end state"
     ]
    },
    {
     "cell_type": "code",
     "collapsed": false,
     "input": [
      "nb_weights = getNBWeights(0.001) #compute naive bayes weights\n",
      "# convert nb weights to hmm weights\n",
      "hmm_weights = defaultdict(float)\n",
      "# your code here\n",
      "for weight in nb_weights:\n",
      "    hmm_weights[(weight[0],weight[1],emit)]=nb_weights[weight]"
     ],
     "language": "python",
     "metadata": {},
     "outputs": [],
     "prompt_number": 501
    },
    {
     "cell_type": "code",
     "collapsed": false,
     "input": [
      "def checker(tag1,tag2):\n",
      "    value=0.0\n",
      "    counter=0.0\n",
      "    for i,(words,tags) in enumerate(conllSeqGenerator(trainfile)):\n",
      "        for i in range(1,len(tags)-1):\n",
      "            if (tags[i]==tag1):\n",
      "                counter+=1\n",
      "                if(tags[i+1]==tag2):\n",
      "                    value +=1.0\n",
      "    return value,counter\n",
      "probability= defaultdict(float)\n",
      "startDict= defaultdict(float)\n",
      "endDict= defaultdict(float)\n",
      "# compute tag-to-tag transition counts, add them to hmm_weights\n",
      "tag_trans_counts = defaultdict(lambda : Counter())\n",
      "count=0.0 #Number of transitions\n",
      "returnValue=0\n",
      "hello=0\n",
      "for i,(words,tags) in enumerate(conllSeqGenerator(trainfile)):\n",
      "    count+=(len(tags)-1)\n",
      "    startDict[tags[0],start_tag,trans]+=1.0\n",
      "    endDict[end_tag,tags[len(tags)-1],trans]+=1.0\n",
      "    for tag in tags:\n",
      "        probability[tag]+=1\n",
      "        hello+=1\n",
      "for p in probability:\n",
      "    probability[p]=np.log(probability[p]/count)\n",
      "\n",
      "for j in tagsDict.keys():\n",
      "    tag1=j\n",
      "    for k in tagsDict.keys():\n",
      "        tag2=k\n",
      "        returnValue,countingValue=checker(tag1,tag2)\n",
      "        if(returnValue/countingValue)==0:\n",
      "            hmm_weights[tag2,tag1,trans]+=probability[tag2]+probability[tag1]+(returnValue/countingValue)\n",
      "        else:\n",
      "            hmm_weights[tag2,tag1,trans]+=probability[tag2]+np.log(returnValue/countingValue)\n",
      "for start in startDict.keys():\n",
      "    hmm_weights[start]=np.log(startDict[start]/hello)\n",
      "def returningNUM(tag):\n",
      "    valueToReturn = 0.0\n",
      "    for i,(words,tags) in enumerate(conllSeqGenerator(trainfile)):\n",
      "        if(tags[len(tags)-1]==tag):\n",
      "            valueToReturn+=1\n",
      "    return valueToReturn\n",
      "for end in endDict.keys():\n",
      "    hmm_weights[end]=probability[end[1]]+np.log(endDict[end]/(returningNUM(end[1])*1.0))\n",
      "\n",
      "# your code here\n"
     ],
     "language": "python",
     "metadata": {},
     "outputs": [],
     "prompt_number": 502
    },
    {
     "cell_type": "code",
     "collapsed": false,
     "input": [
      "#print hmm_weights"
     ],
     "language": "python",
     "metadata": {},
     "outputs": [],
     "prompt_number": 503
    },
    {
     "cell_type": "markdown",
     "metadata": {},
     "source": [
      "**Sanity check**: here are some weights that I estimate. Yours should be very close, if not identical."
     ]
    },
    {
     "cell_type": "code",
     "collapsed": false,
     "input": [
      "print hmm_weights['V','go',emit], hmm_weights['~','go',emit], hmm_weights['^','diddy',emit]\n",
      "print hmm_weights['V','V',trans], hmm_weights['~','V',trans]\n",
      "print hmm_weights[end_tag,'V',trans], hmm_weights[end_tag,'~',trans]"
     ],
     "language": "python",
     "metadata": {},
     "outputs": [
      {
       "output_type": "stream",
       "stream": "stdout",
       "text": [
        "-4.66268727503 -13.2056617029 0.0\n",
        "-3.67958259739 -9.0916738723\n",
        "-1.81440923264 -3.23136259541\n"
       ]
      }
     ],
     "prompt_number": 504
    },
    {
     "cell_type": "markdown",
     "metadata": {},
     "source": [
      "**Sanity check**: here's the tag sequence and score for a modified version of our example sentence"
     ]
    },
    {
     "cell_type": "code",
     "collapsed": false,
     "input": [
      "viterbiTagger([':))','we','can','can','fish',':-)'],hmm_feats,hmm_weights,alltags)"
     ],
     "language": "python",
     "metadata": {},
     "outputs": [
      {
       "metadata": {},
       "output_type": "pyout",
       "prompt_number": 505,
       "text": [
        "(['E', 'O', 'V', 'V', 'N', 'E'], -66.31526857537294)"
       ]
      }
     ],
     "prompt_number": 505
    },
    {
     "cell_type": "markdown",
     "metadata": {},
     "source": [
      "**Deliverable 3d** (3 points): compute the predicted tag sequence and scores for the first three sentence in the training data."
     ]
    },
    {
     "cell_type": "code",
     "collapsed": false,
     "input": [
      "for i,(words,_) in enumerate(conllSeqGenerator(trainfile)):\n",
      "    print i, viterbiTagger(words,hmm_feats,hmm_weights,alltags)\n",
      "    if i >= 2: break"
     ],
     "language": "python",
     "metadata": {},
     "outputs": [
      {
       "output_type": "stream",
       "stream": "stdout",
       "text": [
        "0 "
       ]
      },
      {
       "output_type": "stream",
       "stream": "stdout",
       "text": [
        "(['O', 'V', 'O', 'V', 'V', 'D', 'A', 'N', 'O', 'V', 'P', ',', 'V', '^', '^', 'N', ',', 'R', 'P', 'O', 'V', 'L', 'P', 'O', '~', '@', '~', '^', ',', '~', ',', 'U'], -287.04803182125016)\n",
        "1 (['~', '@', '~', 'O', 'N', 'V', 'P', 'D', 'N', 'N', ','], -104.07406172875285)\n",
        "2 (['Z', 'A', '^', '$', ',', 'V', 'D', 'A', 'N', 'E'], -99.919282679632005)\n"
       ]
      }
     ],
     "prompt_number": 506
    },
    {
     "cell_type": "markdown",
     "metadata": {},
     "source": [
      "** Deliverable 3d** (2 points):\n",
      "- Run your HMM tagger on the dev data, using the code line below.\n",
      "- ** Sanity check**: I get 74.5% accuracy"
     ]
    },
    {
     "cell_type": "code",
     "collapsed": false,
     "input": [
      "confusion = evalTagger(lambda words, alltags : viterbiTagger(words,hmm_feats,hmm_weights,alltags)[0],'hmm')\n",
      "print scorer.accuracy(confusion)"
     ],
     "language": "python",
     "metadata": {},
     "outputs": [
      {
       "output_type": "stream",
       "stream": "stdout",
       "text": [
        "0.698527887207\n"
       ]
      }
     ],
     "prompt_number": 507
    },
    {
     "cell_type": "code",
     "collapsed": false,
     "input": [],
     "language": "python",
     "metadata": {},
     "outputs": []
    }
   ],
   "metadata": {}
  }
 ]
}