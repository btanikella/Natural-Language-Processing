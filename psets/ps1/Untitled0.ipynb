{
 "metadata": {
  "name": "",
  "signature": "sha256:1e689099992b6173783ff66e32ac8bf7633c01f4308040f1e8688a0d103a8799"
 },
 "nbformat": 3,
 "nbformat_minor": 0,
 "worksheets": [
  {
   "cells": [
    {
     "cell_type": "code",
     "collapsed": false,
     "input": [
      "from nltk.tokenize import word_tokenize, sent_tokenize\n",
      "from collections import defaultdict, Counter\n",
      "from matplotlib import pyplot as plt\n",
      "import numpy as np\n",
      "import scorer\n",
      "import operator"
     ],
     "language": "python",
     "metadata": {},
     "outputs": [],
     "prompt_number": 96
    },
    {
     "cell_type": "code",
     "collapsed": false,
     "input": [
      "def docsToBOWs(keyfile):\n",
      "    with open(keyfile,'r') as keys:\n",
      "        with open(keyfile.replace('.key','.bow'),'w') as outfile:\n",
      "            for keyline in keys:\n",
      "                dataloc = keyline.rstrip().split(' ')[0]\n",
      "                fcounts = defaultdict(int)\n",
      "                with open(dataloc,'r') as infile:\n",
      "                    for line in infile: \n",
      "                        sentence = sent_tokenize(line)\n",
      "                        for sent in sentence:\n",
      "                            tokenizedValues = word_tokenize(sent)\n",
      "                            for word in tokenizedValues:\n",
      "                                lowerCase = word.lower()\n",
      "                                if word.isalpha():\n",
      "                                    fcounts[word]+=1\n",
      "                        pass\n",
      "                for word,count in fcounts.items():\n",
      "                    print >>outfile,\"{}:{}\".format(word,count), #write the word and its count to a line\n",
      "                print >>outfile,\"\""
     ],
     "language": "python",
     "metadata": {},
     "outputs": [],
     "prompt_number": 97
    },
    {
     "cell_type": "code",
     "collapsed": false,
     "input": [
      "trainkey = 'train-imdb.key'\n",
      "devkey = 'dev-imdb.key'\n",
      "testkey = 'test-imdb.key'"
     ],
     "language": "python",
     "metadata": {},
     "outputs": [],
     "prompt_number": 98
    },
    {
     "cell_type": "code",
     "collapsed": false,
     "input": [
      "docsToBOWs(trainkey)\n",
      "docsToBOWs(devkey)\n",
      "# docsToBOWs('test-imdb.key') # you won't have this file yet"
     ],
     "language": "python",
     "metadata": {},
     "outputs": [],
     "prompt_number": 99
    },
    {
     "cell_type": "code",
     "collapsed": false,
     "input": [
      "offset = '**OFFSET**'\n",
      "def dataIterator(keyfile):\n",
      "    with open(keyfile.replace('key','bow'),'r') as bows:\n",
      "        with open(keyfile,'r') as keys:\n",
      "            for keyline in keys:\n",
      "                textloc,label = keyline.rstrip().split(' ')\n",
      "                fcounts = {word:int(count) for word,count in\\\n",
      "                           [x.split(':') for x in bows.readline().rstrip().split(' ')]}\n",
      "                fcounts[offset] = 1\n",
      "                yield fcounts,label"
     ],
     "language": "python",
     "metadata": {},
     "outputs": [],
     "prompt_number": 100
    },
    {
     "cell_type": "code",
     "collapsed": false,
     "input": [
      "def getAllCounts(datait):\n",
      "    allcounts = Counter()\n",
      "    for fcounts, _ in datait:\n",
      "        allcounts += Counter(fcounts)\n",
      "    return allcounts\n",
      "\n",
      "ac_train = getAllCounts(dataIterator('train-imdb.key'))\n",
      "ac_dev = getAllCounts(dataIterator('dev-imdb.key'))\n",
      "#ac_test = getAllCounts(dataIterator('test-imdb.key'))\n",
      "print \"number of word types\",len(ac_train.keys())-1"
     ],
     "language": "python",
     "metadata": {},
     "outputs": [
      {
       "output_type": "stream",
       "stream": "stdout",
       "text": [
        "number of word types 29002\n"
       ]
      }
     ],
     "prompt_number": 101
    },
    {
     "cell_type": "code",
     "collapsed": false,
     "input": [
      "# this enables you to create inline plots in the notebook \n",
      "%pylab inline"
     ],
     "language": "python",
     "metadata": {},
     "outputs": [
      {
       "output_type": "stream",
       "stream": "stdout",
       "text": [
        "Populating the interactive namespace from numpy and matplotlib\n"
       ]
      }
     ],
     "prompt_number": 102
    },
    {
     "cell_type": "code",
     "collapsed": false,
     "input": [
      "tr_logcounts = np.log(np.array(sorted(ac_train.values(),reverse=True)))\n",
      "plt.plot(np.log(range(len(tr_logcounts))),tr_logcounts)\n",
      "dv_logcounts = np.log(np.array(sorted(ac_dev.values(),reverse=True)))\n",
      "plt.plot(np.log(range(len(dv_logcounts))),dv_logcounts,'r')\n",
      "plt.xlabel('log rank')\n",
      "plt.ylabel('log count')"
     ],
     "language": "python",
     "metadata": {},
     "outputs": [
      {
       "output_type": "stream",
       "stream": "stderr",
       "text": [
        "-c:2: RuntimeWarning: divide by zero encountered in log\n",
        "-c:4: RuntimeWarning: divide by zero encountered in log\n"
       ]
      },
      {
       "metadata": {},
       "output_type": "pyout",
       "prompt_number": 103,
       "text": [
        "<matplotlib.text.Text at 0x109325790>"
       ]
      },
      {
       "metadata": {},
       "output_type": "display_data",
       "png": "[encoded data removed]",
       "text": [
        "<matplotlib.figure.Figure at 0x109232410>"
       ]
      }
     ],
     "prompt_number": 103
    },
    {
     "cell_type": "code",
     "collapsed": false,
     "input": [],
     "language": "python",
     "metadata": {},
     "outputs": []
    }
   ],
   "metadata": {}
  }
 ]
}